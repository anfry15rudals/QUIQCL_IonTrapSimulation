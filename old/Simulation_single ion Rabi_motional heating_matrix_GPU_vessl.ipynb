{
 "cells": [
  {
   "cell_type": "markdown",
   "metadata": {
    "id": "hoFWi1EvH0cT"
   },
   "source": [
    "# Simulation: single ion Rabi with motional heating"
   ]
  },
  {
   "cell_type": "code",
   "execution_count": 21,
   "metadata": {
    "executionInfo": {
     "elapsed": 2126,
     "status": "ok",
     "timestamp": 1656100007842,
     "user": {
      "displayName": "­이경민 / 학생 / 컴퓨터공학부",
      "userId": "04869600128001339232"
     },
     "user_tz": -540
    },
    "id": "fAHrC7rnH0cW"
   },
   "outputs": [],
   "source": [
    "from scipy import special\n",
    "import numpy as np\n",
    "import matplotlib.pyplot as plt\n",
    "import copy as cp\n",
    "from tqdm.notebook import tqdm\n",
    "import torch\n",
    "import os"
   ]
  },
  {
   "cell_type": "code",
   "execution_count": 2,
   "metadata": {},
   "outputs": [
    {
     "name": "stdout",
     "output_type": "stream",
     "text": [
      "vessl, version 0.1.58\n"
     ]
    }
   ],
   "source": [
    "# Check current version of vessl\n",
    "!vessl --version"
   ]
  },
  {
   "cell_type": "code",
   "execution_count": 3,
   "metadata": {},
   "outputs": [
    {
     "name": "stdout",
     "output_type": "stream",
     "text": [
      "Username: kmlee258\n",
      "Email: anfry15rudals@snu.ac.kr\n",
      "Default organization: snu-eng\n",
      "Default project: simul\n"
     ]
    }
   ],
   "source": [
    "import vessl\n",
    "project_name = f\"simul\"\n",
    "vessl.configure(project_name=project_name)"
   ]
  },
  {
   "cell_type": "markdown",
   "metadata": {
    "id": "7nW9Ec88H0cX"
   },
   "source": [
    "## 1. Parameter definitions"
   ]
  },
  {
   "cell_type": "markdown",
   "metadata": {
    "id": "C53Gat81H0cY"
   },
   "source": [
    "### A. User-defined parameters"
   ]
  },
  {
   "cell_type": "code",
   "execution_count": 16,
   "metadata": {
    "executionInfo": {
     "elapsed": 593,
     "status": "ok",
     "timestamp": 1656100734611,
     "user": {
      "displayName": "­이경민 / 학생 / 컴퓨터공학부",
      "userId": "04869600128001339232"
     },
     "user_tz": -540
    },
    "id": "JJ1xZhXXH0cY"
   },
   "outputs": [],
   "source": [
    "n_tot = 50               # total number of number state basis to represent the motional state: starts from zero\n",
    "n_mean_init = 0         # initial mean number of the motional state\n",
    "spin_down_init = 1      # initial population of spin down\n",
    "\n",
    "f_Rabi = 50*10**3       # internal state Rabi frequency: units in Hz\n",
    "lamda = 1/f_Rabi\n",
    "f_secular = 1.6*10**6   # secular frequency: units in Hz\n",
    "f_detuning = 0          # detuning: units in Hz\n",
    "LD_param = 0.1          # Lamb-Dicke parameter: dimensionless\n",
    "drift_phase = 0\n",
    "\n",
    "heating_rate = 3000       # heating rate: units in phonons/sec\n",
    "T_b = 300               # equilibrium temperature of the phonon heat bath: units in Kelvin\n",
    "\n",
    "t_tot = 1000*1e-6            # total time to simulate: units in sec\n",
    "dt = 200e-9               # simulation time step: units in sec\n",
    "t_scale = (10**6)*dt    # plot time scale: units in us"
   ]
  },
  {
   "cell_type": "code",
   "execution_count": 17,
   "metadata": {
    "colab": {
     "base_uri": "https://localhost:8080/"
    },
    "executionInfo": {
     "elapsed": 25,
     "status": "ok",
     "timestamp": 1656100736141,
     "user": {
      "displayName": "­이경민 / 학생 / 컴퓨터공학부",
      "userId": "04869600128001339232"
     },
     "user_tz": -540
    },
    "id": "C7SkNLxCH0cZ",
    "outputId": "22560653-ac10-49d0-cebd-ea72abda1f79"
   },
   "outputs": [
    {
     "name": "stdout",
     "output_type": "stream",
     "text": [
      "Rabi period: 20.0 us\n"
     ]
    }
   ],
   "source": [
    "print('Rabi period: {} us'.format(lamda * 1e6))"
   ]
  },
  {
   "cell_type": "code",
   "execution_count": 18,
   "metadata": {
    "colab": {
     "base_uri": "https://localhost:8080/"
    },
    "executionInfo": {
     "elapsed": 22,
     "status": "ok",
     "timestamp": 1656100736141,
     "user": {
      "displayName": "­이경민 / 학생 / 컴퓨터공학부",
      "userId": "04869600128001339232"
     },
     "user_tz": -540
    },
    "id": "EHl19ruOJc5r",
    "outputId": "4532e967-6c62-4d36-ab3d-10390914c235"
   },
   "outputs": [
    {
     "name": "stdout",
     "output_type": "stream",
     "text": [
      "Use NVIDIA A100-SXM4-40GB\n"
     ]
    }
   ],
   "source": [
    "if torch.cuda.is_available():\n",
    "    print('Use ' + torch.cuda.get_device_name())\n",
    "    dev = 'cuda'\n",
    "else:\n",
    "    print('No GPU device is available')\n",
    "    dev = 'cpu'"
   ]
  },
  {
   "cell_type": "code",
   "execution_count": 45,
   "metadata": {},
   "outputs": [],
   "source": [
    "import os\n",
    "os.environ['CUDA_LAUNCH_BLOCKING'] = \"1\"\n",
    "os.environ[\"CUDA_VISIBLE_DEVICES\"] = \"0\""
   ]
  },
  {
   "cell_type": "markdown",
   "metadata": {
    "id": "-MjRJdQ2H0ca"
   },
   "source": [
    "### B. Dependent parameters"
   ]
  },
  {
   "cell_type": "code",
   "execution_count": 46,
   "metadata": {
    "colab": {
     "base_uri": "https://localhost:8080/"
    },
    "executionInfo": {
     "elapsed": 18,
     "status": "ok",
     "timestamp": 1656100736142,
     "user": {
      "displayName": "­이경민 / 학생 / 컴퓨터공학부",
      "userId": "04869600128001339232"
     },
     "user_tz": -540
    },
    "id": "memESYnOH0cb",
    "outputId": "2723e51a-490b-432c-a721-3496c1114912"
   },
   "outputs": [
    {
     "name": "stdout",
     "output_type": "stream",
     "text": [
      "bath mean number:  621797\n",
      "Gamma:  0.004825\n"
     ]
    }
   ],
   "source": [
    "# returns the mean number of the bath with respect to the motional energy\n",
    "def return_bath_mean_n():\n",
    "    hbar = 6.62607015*10**(-34)\n",
    "    k_B = 1.380649*10**(-23)\n",
    "    mean_n = 1/(np.exp(hbar*(2*np.pi*f_secular)/(k_B*T_b)) - 1)\n",
    "\n",
    "    return mean_n\n",
    "\n",
    "bath_mean_n = return_bath_mean_n()\n",
    "print('bath mean number: ', round(bath_mean_n))\n",
    "\n",
    "# returns the coupling efficiency to the bath \n",
    "def return_gamma():\n",
    "    gamma = heating_rate/bath_mean_n\n",
    "\n",
    "    return gamma\n",
    "\n",
    "Gamma = return_gamma()\n",
    "print('Gamma: ', round(Gamma, 6))\n",
    "\n",
    "# returns the motional decay rate\n",
    "def return_motional_decay_rate(n):\n",
    "    decay_rate = Gamma*((2*bath_mean_n + 1)*n + bath_mean_n)/2\n",
    "    return decay_rate"
   ]
  },
  {
   "cell_type": "code",
   "execution_count": 47,
   "metadata": {
    "executionInfo": {
     "elapsed": 14,
     "status": "ok",
     "timestamp": 1656100736142,
     "user": {
      "displayName": "­이경민 / 학생 / 컴퓨터공학부",
      "userId": "04869600128001339232"
     },
     "user_tz": -540
    },
    "id": "mP4dkBQJH0cc"
   },
   "outputs": [],
   "source": [
    "def get_laguerre(m, n):\n",
    "    if m == n:\n",
    "        laguerre_factor = np.exp(-(LD_param**2)/2)*special.genlaguerre(n, 0)(LD_param**2)\n",
    "    elif m > n:\n",
    "        n_diff = m- n\n",
    "        laguerre_coeff = np.exp(-(LD_param**2)/2)*(special.factorial(n)/special.factorial(m))**(1/2)\n",
    "        laguerre_factor = laguerre_coeff*((1j*LD_param)**n_diff)*special.genlaguerre(n, n_diff)(LD_param**2)\n",
    "    elif m < n:\n",
    "        n_diff = n - m\n",
    "        laguerre_coeff = np.exp(-(LD_param**2)/2)*(special.factorial(m)/special.factorial(n))**(1/2)\n",
    "        laguerre_factor = laguerre_coeff*((1j*LD_param)**n_diff)*special.genlaguerre(m, n_diff)(LD_param**2)\n",
    "    return laguerre_factor\n",
    "\n",
    "def get_laguerre_prime(m, n):\n",
    "    if m == n:\n",
    "        laguerre_factor = np.exp(-(LD_param**2)/2)*special.genlaguerre(n, 0)(LD_param**2)\n",
    "    elif m > n:\n",
    "        n_diff = m- n\n",
    "        laguerre_coeff = np.exp(-(LD_param**2)/2)*(special.factorial(n)/special.factorial(m))**(1/2)\n",
    "        laguerre_factor = laguerre_coeff*((-1j*LD_param)**n_diff)*special.genlaguerre(n, n_diff)(LD_param**2)\n",
    "    elif m < n:\n",
    "        n_diff = n - m\n",
    "        laguerre_coeff = np.exp(-(LD_param**2)/2)*(special.factorial(m)/special.factorial(n))**(1/2)\n",
    "        laguerre_factor = laguerre_coeff*((-1j*LD_param)**n_diff)*special.genlaguerre(m, n_diff)(LD_param**2)\n",
    "    return laguerre_factor"
   ]
  },
  {
   "cell_type": "markdown",
   "metadata": {
    "id": "ndrOiHs8H0cc"
   },
   "source": [
    "## 2. Simulation"
   ]
  },
  {
   "cell_type": "markdown",
   "metadata": {
    "id": "7dJoT7joH0ce"
   },
   "source": [
    "## Matrix version"
   ]
  },
  {
   "cell_type": "code",
   "execution_count": 48,
   "metadata": {
    "executionInfo": {
     "elapsed": 18,
     "status": "ok",
     "timestamp": 1656100736624,
     "user": {
      "displayName": "­이경민 / 학생 / 컴퓨터공학부",
      "userId": "04869600128001339232"
     },
     "user_tz": -540
    },
    "id": "0C-qVsZqH0cg"
   },
   "outputs": [],
   "source": [
    "def get_evolved_K(K_mat, K_d_mat):\n",
    "    # K_mat_dt = np.einsum('ijkl,ijkl->ijkl', K_evolve_matrix, K_mat)\n",
    "    # K_d_mat_dt = np.einsum('ijkl,ijkl->ijkl', K_evolve_matrix, K_d_mat)\n",
    "    K_mat_dt = torch.einsum('ijkl,ijkl->ijkl', K_evolve_matrix, K_mat)\n",
    "    K_d_mat_dt = torch.einsum('ijkl,ijkl->ijkl', K_evolve_matrix, K_d_mat)\n",
    "    return K_mat_dt, K_d_mat_dt"
   ]
  },
  {
   "cell_type": "code",
   "execution_count": 49,
   "metadata": {
    "executionInfo": {
     "elapsed": 18,
     "status": "ok",
     "timestamp": 1656100736625,
     "user": {
      "displayName": "­이경민 / 학생 / 컴퓨터공학부",
      "userId": "04869600128001339232"
     },
     "user_tz": -540
    },
    "id": "av12vW98H0cg"
   },
   "outputs": [],
   "source": [
    "def get_summed_term(rho_prev, K_mat, K_d_mat):\n",
    "    # K_term1 = np.einsum('mria,rnaj->mnij', K_mat, rho_prev)\n",
    "    # K_term2 = np.einsum('mria,rnaj->mnij', rho_prev, K_d_mat)    \n",
    "    K_term1 = torch.einsum('mria,rnaj->mnij', K_mat, rho_prev)\n",
    "    K_term2 = torch.einsum('mria,rnaj->mnij', rho_prev, K_d_mat)\n",
    "    \n",
    "    rho_n_plus = torch.zeros_like(rho_prev, dtype=torch.complex128)\n",
    "    rho_n_minus = torch.zeros_like(rho_prev, dtype=torch.complex128)\n",
    "\n",
    "    rho_n_plus[:-1,:-1] = rho_prev.clone()[1:,1:]\n",
    "    rho_n_minus[1:,1:] = rho_prev.clone()[:-1,:-1]\n",
    "    \n",
    "    # rho_n_plus[:-1,:-1] = torch.roll(rho_prev, shifts=(-1,-1), dims=(0,1))[:-1,:-1]\n",
    "    # rho_n_minus[1:,1:] = torch.roll(rho_prev, shifts=(1,1), dims=(0,1))[1:,1:]\n",
    "\n",
    "    # rho_n_plus = np.pad(rho_prev,((0,1),(0,1),(0,0),(0,0)), mode='constant')[1:, 1:] # rho[m+1, n+1]\n",
    "    # rho_n_minus = np.pad(rho_prev,((1,0),(1,0),(0,0),(0,0)), mode='constant')[:-1, :-1] # rho[m-1, n-1]\n",
    "\n",
    "    J_term1 = torch.einsum('ij,ijkh->ijkh', J_matrix, rho_n_plus)\n",
    "    J_term2 = torch.einsum('ij,ijkh->ijkh', J_d_matrix, rho_n_minus)\n",
    "        \n",
    "    return K_term1 + K_term2 + J_term1 + J_term2\n",
    "#     return K_term1 + K_term2\n",
    "#     return J_term1 + J_term2"
   ]
  },
  {
   "cell_type": "code",
   "execution_count": 50,
   "metadata": {
    "colab": {
     "base_uri": "https://localhost:8080/",
     "height": 49,
     "referenced_widgets": [
      "457ac3472f5e4433ace69dd5629e905c",
      "78927b4b865f4b848a431bd0accf4861",
      "304d370f20084e12bac88005e0d571df",
      "745d85dded43461d8388f09d44ae8b8d",
      "4d57b01d797448149a5946fd37f30a51",
      "781d1664bc6f4c6586ab70b77ebe5899",
      "82b9c6ccebf149d3aa45fcd3895c4fcc",
      "513987489b1347da823b0ccd03efa306",
      "515c3ecc2a984f7f9d73102d47219e8e",
      "0fffa284a213496ebf969b3a6685947a",
      "17459db47e4e45b38ba5d7973c29c635"
     ]
    },
    "executionInfo": {
     "elapsed": 16696,
     "status": "ok",
     "timestamp": 1656100753305,
     "user": {
      "displayName": "­이경민 / 학생 / 컴퓨터공학부",
      "userId": "04869600128001339232"
     },
     "user_tz": -540
    },
    "id": "x8P4du7EH0ch",
    "outputId": "71b2e46b-3d52-40c6-930f-517798ad95f8",
    "scrolled": true
   },
   "outputs": [],
   "source": [
    "def simulation(transition = 'blue'):\n",
    "    \n",
    "    # initialize the density matrix elements\n",
    "    sim_init_array = np.zeros((n_tot,n_tot,2,2), dtype=complex)\n",
    "    sim_empty_array = np.zeros((n_tot,n_tot,2,2), dtype=complex)\n",
    "\n",
    "    sim_spin = np.array([[complex(spin_down_init), complex(0)], [complex(0), complex(1 - spin_down_init)]])\n",
    "    sim_spin.reshape(2, 2)\n",
    "    sim_empty = np.array([[complex(0), complex(0)], [complex(0), complex(0)]])\n",
    "    sim_empty.reshape(2, 2)\n",
    "\n",
    "    for n in range(n_tot):\n",
    "        prob_n = (1/(n_mean_init + 1))*(n_mean_init/(n_mean_init + 1))**n\n",
    "        sim_init_array[n,n] = prob_n * sim_spin\n",
    "\n",
    "    sim_init_array /= sim_init_array.sum()\n",
    "\n",
    "    sim_init_array = torch.from_numpy(sim_init_array).to(dev)\n",
    "    sim_spin = torch.from_numpy(sim_spin).to(dev)\n",
    "    sim_empty = torch.from_numpy(sim_empty).to(dev)\n",
    "\n",
    "\n",
    "    # Initial J, Jd matrix --> Constant since there's no time dependencies\n",
    "    J_matrix = np.zeros((n_tot,n_tot), dtype=complex)\n",
    "    J_d_matrix = np.zeros((n_tot,n_tot), dtype=complex)\n",
    "    for m in range(n_tot):\n",
    "        for n in range(n_tot):        \n",
    "            J_matrix[m,n] = Gamma*(bath_mean_n + 1)*(((m + 1)*(n + 1))**(1/2))\n",
    "            J_d_matrix[m,n] = Gamma*bath_mean_n*((m*n)**(1/2))          \n",
    "\n",
    "    J_matrix = torch.from_numpy(J_matrix).to(dev)\n",
    "    J_d_matrix = torch.from_numpy(J_d_matrix).to(dev)\n",
    "\n",
    "    # Initial K, Kd matrix\n",
    "    K_matrix = np.zeros_like(sim_empty_array, dtype=complex)\n",
    "    K_d_matrix = np.zeros_like(sim_empty_array, dtype=complex)\n",
    "    for m in range(n_tot):\n",
    "        for n in range(n_tot):\n",
    "            f_mn = get_laguerre(m,n)\n",
    "            f_mn_prime = get_laguerre_prime(m,n)\n",
    "#             f_mn_prime = f_mn.conj()\n",
    "            K_matrix[m,n] = -(1j/2)*np.array([[0, f_mn * 2*np.pi * f_Rabi], [f_mn_prime * 2*np.pi * f_Rabi, 0]], dtype=complex)    \n",
    "            K_d_matrix[m,n] = (1j/2)*np.array([[0, f_mn * 2*np.pi * f_Rabi], [f_mn_prime * 2*np.pi * f_Rabi, 0]], dtype=complex) \n",
    "            if m == n:\n",
    "                K_matrix[m,n] -= return_motional_decay_rate(n)*np.eye(2, dtype=complex)\n",
    "                K_d_matrix[m,n] -= return_motional_decay_rate(n)*np.eye(2, dtype=complex)\n",
    "\n",
    "    K_matrix = torch.from_numpy(K_matrix).to(dev)\n",
    "    K_d_matrix = torch.from_numpy(K_d_matrix).to(dev)\n",
    "   \n",
    "\n",
    "    if transition == 'blue':\n",
    "        f_detuning = f_secular\n",
    "    elif transition == 'red':\n",
    "        f_detuning = -f_secular\n",
    "    else:\n",
    "        f_detuning = 0\n",
    "\n",
    "    # Evolve K matrix for dt / 2\n",
    "    K_evolve_matrix = np.ones_like(K_matrix.cpu(), dtype=complex)\n",
    "    for m in range(n_tot):\n",
    "        for n in range(n_tot):\n",
    "            K_evolve_matrix[m,n] = np.array([[1, np.exp(1j*2*np.pi*((m-n)*f_secular + f_detuning)*dt/2)], \n",
    "                                             [np.exp(1j*2*np.pi*((m-n)*f_secular - f_detuning)*dt/2), 1]])\n",
    "    K_evolve_matrix = torch.from_numpy(K_evolve_matrix).to(dev)\n",
    "\n",
    "    \n",
    "    sim_timeline = {'time_step' : list(), 'prob_up' : list(), 'rho_hist': []}\n",
    "\n",
    "    traced = sim_init_array.sum(axis=(0,1))\n",
    "    prob_up = traced[1][1].real\n",
    "    sim_timeline['time_step'].append(0)      # plot units in us\n",
    "    sim_timeline['prob_up'].append(prob_up.cpu().detach().numpy())\n",
    "\n",
    "    # update density matrix elements\n",
    "    sim_prev = cp.deepcopy(sim_init_array)\n",
    "    sim_next = cp.deepcopy(sim_empty_array)\n",
    "    sim_timeline['rho_hist'].append(sim_prev.clone().cpu().detach().numpy())\n",
    "\n",
    "    time = 0\n",
    "    for it in tqdm(range(round(t_tot/dt))): \n",
    "        summed = get_summed_term(sim_prev, K_matrix, K_d_matrix)\n",
    "        k1 = summed * dt\n",
    "\n",
    "        K_matrix, K_d_matrix = get_evolved_K(K_matrix, K_d_matrix)\n",
    "        summed = get_summed_term(sim_prev + k1/2, K_matrix, K_d_matrix)\n",
    "        k2 = summed * dt\n",
    "        summed = get_summed_term(sim_prev + k2/2, K_matrix, K_d_matrix)\n",
    "        k3 = summed * dt\n",
    "\n",
    "        K_matrix, K_d_matrix = get_evolved_K(K_matrix, K_d_matrix)\n",
    "        summed = get_summed_term(sim_prev + k3, K_matrix, K_d_matrix)\n",
    "        k4 = summed * dt\n",
    "\n",
    "        sim_next = sim_prev + (k1 + 2*k2 + 2*k3 + k4)/6\n",
    "\n",
    "        traced = sim_next.sum(axis=(0,1))\n",
    "        prob_up = traced[1][1].real\n",
    "\n",
    "        sim_timeline['time_step'].append((it+1)*t_scale)      # plot units in us\n",
    "        sim_timeline['prob_up'].append(prob_up.cpu().detach().numpy())\n",
    "        sim_timeline['rho_hist'].append(sim_next.clone().cpu().detach().numpy())\n",
    "\n",
    "        sim_prev = cp.deepcopy(sim_next)\n",
    "        sim_next = cp.deepcopy(sim_empty_array)\n",
    "        \n",
    "    vessl.log(\n",
    "        sim_timeline   \n",
    "    )\n",
    "\n",
    "    sim_final_array = cp.deepcopy(sim_prev)\n",
    "    \n",
    "    return sim_timeline"
   ]
  },
  {
   "cell_type": "code",
   "execution_count": 51,
   "metadata": {},
   "outputs": [
    {
     "name": "stdout",
     "output_type": "stream",
     "text": [
      "Already connected to experiment #5.\n",
      "To start a new experiment, call `vessl.finish()` first and `vessl.init()` again.\n"
     ]
    }
   ],
   "source": [
    "vessl.init()"
   ]
  },
  {
   "cell_type": "code",
   "execution_count": 52,
   "metadata": {},
   "outputs": [
    {
     "ename": "RuntimeError",
     "evalue": "CUDA error: no kernel image is available for execution on the device\nCUDA kernel errors might be asynchronously reported at some other API call,so the stacktrace below might be incorrect.\nFor debugging consider passing CUDA_LAUNCH_BLOCKING=1.",
     "output_type": "error",
     "traceback": [
      "\u001b[0;31m---------------------------------------------------------------------------\u001b[0m",
      "\u001b[0;31mRuntimeError\u001b[0m                              Traceback (most recent call last)",
      "\u001b[0;32m<ipython-input-52-74bd1bc59c6b>\u001b[0m in \u001b[0;36m<module>\u001b[0;34m\u001b[0m\n\u001b[0;32m----> 1\u001b[0;31m \u001b[0msimulation\u001b[0m\u001b[0;34m(\u001b[0m\u001b[0;34m)\u001b[0m\u001b[0;34m\u001b[0m\u001b[0;34m\u001b[0m\u001b[0m\n\u001b[0m",
      "\u001b[0;32m<ipython-input-50-ce3f9a5899f6>\u001b[0m in \u001b[0;36msimulation\u001b[0;34m(transition)\u001b[0m\n\u001b[1;32m     68\u001b[0m     \u001b[0msim_timeline\u001b[0m \u001b[0;34m=\u001b[0m \u001b[0;34m{\u001b[0m\u001b[0;34m'time_step'\u001b[0m \u001b[0;34m:\u001b[0m \u001b[0mlist\u001b[0m\u001b[0;34m(\u001b[0m\u001b[0;34m)\u001b[0m\u001b[0;34m,\u001b[0m \u001b[0;34m'prob_up'\u001b[0m \u001b[0;34m:\u001b[0m \u001b[0mlist\u001b[0m\u001b[0;34m(\u001b[0m\u001b[0;34m)\u001b[0m\u001b[0;34m,\u001b[0m \u001b[0;34m'rho_hist'\u001b[0m\u001b[0;34m:\u001b[0m \u001b[0;34m[\u001b[0m\u001b[0;34m]\u001b[0m\u001b[0;34m}\u001b[0m\u001b[0;34m\u001b[0m\u001b[0;34m\u001b[0m\u001b[0m\n\u001b[1;32m     69\u001b[0m \u001b[0;34m\u001b[0m\u001b[0m\n\u001b[0;32m---> 70\u001b[0;31m     \u001b[0mtraced\u001b[0m \u001b[0;34m=\u001b[0m \u001b[0msim_init_array\u001b[0m\u001b[0;34m.\u001b[0m\u001b[0msum\u001b[0m\u001b[0;34m(\u001b[0m\u001b[0maxis\u001b[0m\u001b[0;34m=\u001b[0m\u001b[0;34m(\u001b[0m\u001b[0;36m0\u001b[0m\u001b[0;34m,\u001b[0m\u001b[0;36m1\u001b[0m\u001b[0;34m)\u001b[0m\u001b[0;34m)\u001b[0m\u001b[0;34m\u001b[0m\u001b[0;34m\u001b[0m\u001b[0m\n\u001b[0m\u001b[1;32m     71\u001b[0m     \u001b[0mprob_up\u001b[0m \u001b[0;34m=\u001b[0m \u001b[0mtraced\u001b[0m\u001b[0;34m[\u001b[0m\u001b[0;36m1\u001b[0m\u001b[0;34m]\u001b[0m\u001b[0;34m[\u001b[0m\u001b[0;36m1\u001b[0m\u001b[0;34m]\u001b[0m\u001b[0;34m.\u001b[0m\u001b[0mreal\u001b[0m\u001b[0;34m\u001b[0m\u001b[0;34m\u001b[0m\u001b[0m\n\u001b[1;32m     72\u001b[0m     \u001b[0msim_timeline\u001b[0m\u001b[0;34m[\u001b[0m\u001b[0;34m'time_step'\u001b[0m\u001b[0;34m]\u001b[0m\u001b[0;34m.\u001b[0m\u001b[0mappend\u001b[0m\u001b[0;34m(\u001b[0m\u001b[0;36m0\u001b[0m\u001b[0;34m)\u001b[0m      \u001b[0;31m# plot units in us\u001b[0m\u001b[0;34m\u001b[0m\u001b[0;34m\u001b[0m\u001b[0m\n",
      "\u001b[0;31mRuntimeError\u001b[0m: CUDA error: no kernel image is available for execution on the device\nCUDA kernel errors might be asynchronously reported at some other API call,so the stacktrace below might be incorrect.\nFor debugging consider passing CUDA_LAUNCH_BLOCKING=1."
     ]
    }
   ],
   "source": [
    "simulation()"
   ]
  },
  {
   "cell_type": "code",
   "execution_count": null,
   "metadata": {},
   "outputs": [],
   "source": [
    "# cat /usr/local/cuda/version.txt"
   ]
  },
  {
   "cell_type": "code",
   "execution_count": null,
   "metadata": {},
   "outputs": [],
   "source": [
    "# pip uninstall torch --y"
   ]
  },
  {
   "cell_type": "code",
   "execution_count": null,
   "metadata": {},
   "outputs": [],
   "source": [
    "# Finish experiment\n",
    "vessl.finish()"
   ]
  },
  {
   "cell_type": "code",
   "execution_count": null,
   "metadata": {
    "executionInfo": {
     "elapsed": 6,
     "status": "ok",
     "timestamp": 1656100754049,
     "user": {
      "displayName": "­이경민 / 학생 / 컴퓨터공학부",
      "userId": "04869600128001339232"
     },
     "user_tz": -540
    },
    "id": "5rFquCUuH0ch"
   },
   "outputs": [],
   "source": [
    "for i in range(len(sim_timeline['rho_hist'])):\n",
    "    sim_timeline['rho_hist'][2].sum(axis=(0,1))"
   ]
  },
  {
   "cell_type": "code",
   "execution_count": null,
   "metadata": {
    "colab": {
     "base_uri": "https://localhost:8080/",
     "height": 298
    },
    "executionInfo": {
     "elapsed": 6,
     "status": "ok",
     "timestamp": 1656100754050,
     "user": {
      "displayName": "­이경민 / 학생 / 컴퓨터공학부",
      "userId": "04869600128001339232"
     },
     "user_tz": -540
    },
    "id": "DT1kuactH0ch",
    "outputId": "f597fa0f-19f3-4da0-d984-98bf2344c70d"
   },
   "outputs": [],
   "source": [
    "plt.rcParams['figure.figsize'] = (25,6)\n",
    "plt.grid()\n",
    "plt.xlim(0, sim_timeline['time_step'][-1])\n",
    "plt.ylim(-0.1, 1.1)\n",
    "plt.plot(sim_timeline['time_step'][:], sim_timeline['prob_up'][:])"
   ]
  },
  {
   "cell_type": "code",
   "execution_count": null,
   "metadata": {
    "colab": {
     "base_uri": "https://localhost:8080/",
     "height": 282
    },
    "executionInfo": {
     "elapsed": 1908,
     "status": "ok",
     "timestamp": 1656100755954,
     "user": {
      "displayName": "­이경민 / 학생 / 컴퓨터공학부",
      "userId": "04869600128001339232"
     },
     "user_tz": -540
    },
    "id": "6yJQBhGdH0cj",
    "outputId": "1a1f0d8b-9e74-44ba-ba8f-0f87b791efc8"
   },
   "outputs": [],
   "source": [
    "for n in range(10):\n",
    "    plt.plot(sim_timeline['time_step'], \n",
    "             [np.diag(sim_timeline['rho_hist'][i][n,n]).sum().real for i in range(len(sim_timeline['rho_hist']))])"
   ]
  },
  {
   "cell_type": "code",
   "execution_count": null,
   "metadata": {
    "executionInfo": {
     "elapsed": 6,
     "status": "ok",
     "timestamp": 1656100022645,
     "user": {
      "displayName": "­이경민 / 학생 / 컴퓨터공학부",
      "userId": "04869600128001339232"
     },
     "user_tz": -540
    },
    "id": "kvzybOnSH0cj"
   },
   "outputs": [],
   "source": []
  },
  {
   "cell_type": "code",
   "execution_count": null,
   "metadata": {},
   "outputs": [],
   "source": []
  }
 ],
 "metadata": {
  "accelerator": "GPU",
  "colab": {
   "collapsed_sections": [],
   "name": "Simulation_single ion Rabi_motional heating_matrix.ipynb",
   "provenance": []
  },
  "gpuClass": "standard",
  "interpreter": {
   "hash": "26eb218357ef5145310f88f18a832723951405e568f00ca9c1b7f8d6834b2141"
  },
  "kernelspec": {
   "display_name": "Full on Python 3.6 (GPU)",
   "language": "python",
   "name": "python3"
  },
  "language_info": {
   "codemirror_mode": {
    "name": "ipython",
    "version": 3
   },
   "file_extension": ".py",
   "mimetype": "text/x-python",
   "name": "python",
   "nbconvert_exporter": "python",
   "pygments_lexer": "ipython3",
   "version": "3.6.14"
  },
  "widgets": {
   "application/vnd.jupyter.widget-state+json": {
    "0fffa284a213496ebf969b3a6685947a": {
     "model_module": "@jupyter-widgets/base",
     "model_module_version": "1.2.0",
     "model_name": "LayoutModel",
     "state": {
      "_model_module": "@jupyter-widgets/base",
      "_model_module_version": "1.2.0",
      "_model_name": "LayoutModel",
      "_view_count": null,
      "_view_module": "@jupyter-widgets/base",
      "_view_module_version": "1.2.0",
      "_view_name": "LayoutView",
      "align_content": null,
      "align_items": null,
      "align_self": null,
      "border": null,
      "bottom": null,
      "display": null,
      "flex": null,
      "flex_flow": null,
      "grid_area": null,
      "grid_auto_columns": null,
      "grid_auto_flow": null,
      "grid_auto_rows": null,
      "grid_column": null,
      "grid_gap": null,
      "grid_row": null,
      "grid_template_areas": null,
      "grid_template_columns": null,
      "grid_template_rows": null,
      "height": null,
      "justify_content": null,
      "justify_items": null,
      "left": null,
      "margin": null,
      "max_height": null,
      "max_width": null,
      "min_height": null,
      "min_width": null,
      "object_fit": null,
      "object_position": null,
      "order": null,
      "overflow": null,
      "overflow_x": null,
      "overflow_y": null,
      "padding": null,
      "right": null,
      "top": null,
      "visibility": null,
      "width": null
     }
    },
    "17459db47e4e45b38ba5d7973c29c635": {
     "model_module": "@jupyter-widgets/controls",
     "model_module_version": "1.5.0",
     "model_name": "DescriptionStyleModel",
     "state": {
      "_model_module": "@jupyter-widgets/controls",
      "_model_module_version": "1.5.0",
      "_model_name": "DescriptionStyleModel",
      "_view_count": null,
      "_view_module": "@jupyter-widgets/base",
      "_view_module_version": "1.2.0",
      "_view_name": "StyleView",
      "description_width": ""
     }
    },
    "304d370f20084e12bac88005e0d571df": {
     "model_module": "@jupyter-widgets/controls",
     "model_module_version": "1.5.0",
     "model_name": "FloatProgressModel",
     "state": {
      "_dom_classes": [],
      "_model_module": "@jupyter-widgets/controls",
      "_model_module_version": "1.5.0",
      "_model_name": "FloatProgressModel",
      "_view_count": null,
      "_view_module": "@jupyter-widgets/controls",
      "_view_module_version": "1.5.0",
      "_view_name": "ProgressView",
      "bar_style": "success",
      "description": "",
      "description_tooltip": null,
      "layout": "IPY_MODEL_513987489b1347da823b0ccd03efa306",
      "max": 5000,
      "min": 0,
      "orientation": "horizontal",
      "style": "IPY_MODEL_515c3ecc2a984f7f9d73102d47219e8e",
      "value": 5000
     }
    },
    "457ac3472f5e4433ace69dd5629e905c": {
     "model_module": "@jupyter-widgets/controls",
     "model_module_version": "1.5.0",
     "model_name": "HBoxModel",
     "state": {
      "_dom_classes": [],
      "_model_module": "@jupyter-widgets/controls",
      "_model_module_version": "1.5.0",
      "_model_name": "HBoxModel",
      "_view_count": null,
      "_view_module": "@jupyter-widgets/controls",
      "_view_module_version": "1.5.0",
      "_view_name": "HBoxView",
      "box_style": "",
      "children": [
       "IPY_MODEL_78927b4b865f4b848a431bd0accf4861",
       "IPY_MODEL_304d370f20084e12bac88005e0d571df",
       "IPY_MODEL_745d85dded43461d8388f09d44ae8b8d"
      ],
      "layout": "IPY_MODEL_4d57b01d797448149a5946fd37f30a51"
     }
    },
    "4d57b01d797448149a5946fd37f30a51": {
     "model_module": "@jupyter-widgets/base",
     "model_module_version": "1.2.0",
     "model_name": "LayoutModel",
     "state": {
      "_model_module": "@jupyter-widgets/base",
      "_model_module_version": "1.2.0",
      "_model_name": "LayoutModel",
      "_view_count": null,
      "_view_module": "@jupyter-widgets/base",
      "_view_module_version": "1.2.0",
      "_view_name": "LayoutView",
      "align_content": null,
      "align_items": null,
      "align_self": null,
      "border": null,
      "bottom": null,
      "display": null,
      "flex": null,
      "flex_flow": null,
      "grid_area": null,
      "grid_auto_columns": null,
      "grid_auto_flow": null,
      "grid_auto_rows": null,
      "grid_column": null,
      "grid_gap": null,
      "grid_row": null,
      "grid_template_areas": null,
      "grid_template_columns": null,
      "grid_template_rows": null,
      "height": null,
      "justify_content": null,
      "justify_items": null,
      "left": null,
      "margin": null,
      "max_height": null,
      "max_width": null,
      "min_height": null,
      "min_width": null,
      "object_fit": null,
      "object_position": null,
      "order": null,
      "overflow": null,
      "overflow_x": null,
      "overflow_y": null,
      "padding": null,
      "right": null,
      "top": null,
      "visibility": null,
      "width": null
     }
    },
    "513987489b1347da823b0ccd03efa306": {
     "model_module": "@jupyter-widgets/base",
     "model_module_version": "1.2.0",
     "model_name": "LayoutModel",
     "state": {
      "_model_module": "@jupyter-widgets/base",
      "_model_module_version": "1.2.0",
      "_model_name": "LayoutModel",
      "_view_count": null,
      "_view_module": "@jupyter-widgets/base",
      "_view_module_version": "1.2.0",
      "_view_name": "LayoutView",
      "align_content": null,
      "align_items": null,
      "align_self": null,
      "border": null,
      "bottom": null,
      "display": null,
      "flex": null,
      "flex_flow": null,
      "grid_area": null,
      "grid_auto_columns": null,
      "grid_auto_flow": null,
      "grid_auto_rows": null,
      "grid_column": null,
      "grid_gap": null,
      "grid_row": null,
      "grid_template_areas": null,
      "grid_template_columns": null,
      "grid_template_rows": null,
      "height": null,
      "justify_content": null,
      "justify_items": null,
      "left": null,
      "margin": null,
      "max_height": null,
      "max_width": null,
      "min_height": null,
      "min_width": null,
      "object_fit": null,
      "object_position": null,
      "order": null,
      "overflow": null,
      "overflow_x": null,
      "overflow_y": null,
      "padding": null,
      "right": null,
      "top": null,
      "visibility": null,
      "width": null
     }
    },
    "515c3ecc2a984f7f9d73102d47219e8e": {
     "model_module": "@jupyter-widgets/controls",
     "model_module_version": "1.5.0",
     "model_name": "ProgressStyleModel",
     "state": {
      "_model_module": "@jupyter-widgets/controls",
      "_model_module_version": "1.5.0",
      "_model_name": "ProgressStyleModel",
      "_view_count": null,
      "_view_module": "@jupyter-widgets/base",
      "_view_module_version": "1.2.0",
      "_view_name": "StyleView",
      "bar_color": null,
      "description_width": ""
     }
    },
    "745d85dded43461d8388f09d44ae8b8d": {
     "model_module": "@jupyter-widgets/controls",
     "model_module_version": "1.5.0",
     "model_name": "HTMLModel",
     "state": {
      "_dom_classes": [],
      "_model_module": "@jupyter-widgets/controls",
      "_model_module_version": "1.5.0",
      "_model_name": "HTMLModel",
      "_view_count": null,
      "_view_module": "@jupyter-widgets/controls",
      "_view_module_version": "1.5.0",
      "_view_name": "HTMLView",
      "description": "",
      "description_tooltip": null,
      "layout": "IPY_MODEL_0fffa284a213496ebf969b3a6685947a",
      "placeholder": "​",
      "style": "IPY_MODEL_17459db47e4e45b38ba5d7973c29c635",
      "value": " 5000/5000 [00:16&lt;00:00, 455.00it/s]"
     }
    },
    "781d1664bc6f4c6586ab70b77ebe5899": {
     "model_module": "@jupyter-widgets/base",
     "model_module_version": "1.2.0",
     "model_name": "LayoutModel",
     "state": {
      "_model_module": "@jupyter-widgets/base",
      "_model_module_version": "1.2.0",
      "_model_name": "LayoutModel",
      "_view_count": null,
      "_view_module": "@jupyter-widgets/base",
      "_view_module_version": "1.2.0",
      "_view_name": "LayoutView",
      "align_content": null,
      "align_items": null,
      "align_self": null,
      "border": null,
      "bottom": null,
      "display": null,
      "flex": null,
      "flex_flow": null,
      "grid_area": null,
      "grid_auto_columns": null,
      "grid_auto_flow": null,
      "grid_auto_rows": null,
      "grid_column": null,
      "grid_gap": null,
      "grid_row": null,
      "grid_template_areas": null,
      "grid_template_columns": null,
      "grid_template_rows": null,
      "height": null,
      "justify_content": null,
      "justify_items": null,
      "left": null,
      "margin": null,
      "max_height": null,
      "max_width": null,
      "min_height": null,
      "min_width": null,
      "object_fit": null,
      "object_position": null,
      "order": null,
      "overflow": null,
      "overflow_x": null,
      "overflow_y": null,
      "padding": null,
      "right": null,
      "top": null,
      "visibility": null,
      "width": null
     }
    },
    "78927b4b865f4b848a431bd0accf4861": {
     "model_module": "@jupyter-widgets/controls",
     "model_module_version": "1.5.0",
     "model_name": "HTMLModel",
     "state": {
      "_dom_classes": [],
      "_model_module": "@jupyter-widgets/controls",
      "_model_module_version": "1.5.0",
      "_model_name": "HTMLModel",
      "_view_count": null,
      "_view_module": "@jupyter-widgets/controls",
      "_view_module_version": "1.5.0",
      "_view_name": "HTMLView",
      "description": "",
      "description_tooltip": null,
      "layout": "IPY_MODEL_781d1664bc6f4c6586ab70b77ebe5899",
      "placeholder": "​",
      "style": "IPY_MODEL_82b9c6ccebf149d3aa45fcd3895c4fcc",
      "value": "100%"
     }
    },
    "82b9c6ccebf149d3aa45fcd3895c4fcc": {
     "model_module": "@jupyter-widgets/controls",
     "model_module_version": "1.5.0",
     "model_name": "DescriptionStyleModel",
     "state": {
      "_model_module": "@jupyter-widgets/controls",
      "_model_module_version": "1.5.0",
      "_model_name": "DescriptionStyleModel",
      "_view_count": null,
      "_view_module": "@jupyter-widgets/base",
      "_view_module_version": "1.2.0",
      "_view_name": "StyleView",
      "description_width": ""
     }
    }
   }
  }
 },
 "nbformat": 4,
 "nbformat_minor": 4
}
