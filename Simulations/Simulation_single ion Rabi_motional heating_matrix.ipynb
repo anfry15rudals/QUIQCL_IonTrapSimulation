{
 "cells": [
  {
   "cell_type": "markdown",
   "metadata": {},
   "source": [
    "# Simulation: single ion Rabi with motional heating"
   ]
  },
  {
   "cell_type": "code",
   "execution_count": 57,
   "metadata": {},
   "outputs": [],
   "source": [
    "from scipy import special\n",
    "import numpy as np\n",
    "import matplotlib.pyplot as plt\n",
    "import copy as cp\n",
    "from tqdm.notebook import tqdm"
   ]
  },
  {
   "cell_type": "markdown",
   "metadata": {},
   "source": [
    "## 1. Parameter definitions"
   ]
  },
  {
   "cell_type": "markdown",
   "metadata": {},
   "source": [
    "### A. User-defined parameters"
   ]
  },
  {
   "cell_type": "code",
   "execution_count": 58,
   "metadata": {},
   "outputs": [],
   "source": [
    "n_tot = 20               # total number of number state basis to represent the motional state: starts from zero\n",
    "n_mean_init = 0         # initial mean number of the motional state\n",
    "spin_down_init = 1      # initial population of spin down\n",
    "\n",
    "f_Rabi = 50*10**3       # internal state Rabi frequency: units in Hz\n",
    "lamda = 1/f_Rabi\n",
    "f_secular = 1.6*10**6   # secular frequency: units in Hz\n",
    "f_detuning = 0          # detuning: units in Hz\n",
    "LD_param = 0.1          # Lamb-Dicke parameter: dimensionless\n",
    "drift_phase = 0\n",
    "\n",
    "heating_rate = 3000       # heating rate: units in phonons/sec\n",
    "T_b = 300               # equilibrium temperature of the phonon heat bath: units in Kelvin\n",
    "\n",
    "t_tot = 300*1e-6            # total time to simulate: units in sec\n",
    "dt = 200e-9               # simulation time step: units in sec\n",
    "t_scale = (10**6)*dt    # plot time scale: units in us"
   ]
  },
  {
   "cell_type": "code",
   "execution_count": 59,
   "metadata": {},
   "outputs": [
    {
     "name": "stdout",
     "output_type": "stream",
     "text": [
      "Rabi period: 20.0 us\n"
     ]
    }
   ],
   "source": [
    "print('Rabi period: {} us'.format(lamda * 1e6))"
   ]
  },
  {
   "cell_type": "markdown",
   "metadata": {},
   "source": [
    "### B. Dependent parameters"
   ]
  },
  {
   "cell_type": "code",
   "execution_count": 60,
   "metadata": {},
   "outputs": [
    {
     "name": "stdout",
     "output_type": "stream",
     "text": [
      "bath mean number:  621797\n",
      "Gamma:  0.004825\n"
     ]
    }
   ],
   "source": [
    "# returns the mean number of the bath with respect to the motional energy\n",
    "def return_bath_mean_n():\n",
    "    hbar = 6.62607015*10**(-34)\n",
    "    k_B = 1.380649*10**(-23)\n",
    "    mean_n = 1/(np.exp(hbar*(2*np.pi*f_secular)/(k_B*T_b)) - 1)\n",
    "\n",
    "    return mean_n\n",
    "\n",
    "bath_mean_n = return_bath_mean_n()\n",
    "print('bath mean number: ', round(bath_mean_n))\n",
    "\n",
    "# returns the coupling efficiency to the bath \n",
    "def return_gamma():\n",
    "    gamma = heating_rate/bath_mean_n\n",
    "\n",
    "    return gamma\n",
    "\n",
    "Gamma = return_gamma()\n",
    "print('Gamma: ', round(Gamma, 6))\n",
    "\n",
    "# returns the motional decay rate\n",
    "def return_motional_decay_rate(n):\n",
    "    decay_rate = Gamma*((2*bath_mean_n + 1)*n + bath_mean_n)/2\n",
    "    return decay_rate"
   ]
  },
  {
   "cell_type": "code",
   "execution_count": 61,
   "metadata": {},
   "outputs": [],
   "source": [
    "def get_laguerre(m, n):\n",
    "    if m == n:\n",
    "        laguerre_factor = np.exp(-(LD_param**2)/2)*special.genlaguerre(n, 0)(LD_param**2)\n",
    "    elif m > n:\n",
    "        n_diff = m- n\n",
    "        laguerre_coeff = np.exp(-(LD_param**2)/2)*(special.factorial(n)/special.factorial(m))**(1/2)\n",
    "        laguerre_factor = laguerre_coeff*((1j*LD_param)**n_diff)*special.genlaguerre(n, n_diff)(LD_param**2)\n",
    "    elif m < n:\n",
    "        n_diff = n - m\n",
    "        laguerre_coeff = np.exp(-(LD_param**2)/2)*(special.factorial(m)/special.factorial(n))**(1/2)\n",
    "        laguerre_factor = laguerre_coeff*((1j*LD_param)**n_diff)*special.genlaguerre(m, n_diff)(LD_param**2)\n",
    "    return laguerre_factor\n",
    "\n",
    "def get_laguerre_prime(m, n):\n",
    "    if m == n:\n",
    "        laguerre_factor = np.exp(-(LD_param**2)/2)*special.genlaguerre(n, 0)(LD_param**2)\n",
    "    elif m > n:\n",
    "        n_diff = m- n\n",
    "        laguerre_coeff = np.exp(-(LD_param**2)/2)*(special.factorial(n)/special.factorial(m))**(1/2)\n",
    "        laguerre_factor = laguerre_coeff*((-1j*LD_param)**n_diff)*special.genlaguerre(n, n_diff)(LD_param**2)\n",
    "    elif m < n:\n",
    "        n_diff = n - m\n",
    "        laguerre_coeff = np.exp(-(LD_param**2)/2)*(special.factorial(m)/special.factorial(n))**(1/2)\n",
    "        laguerre_factor = laguerre_coeff*((-1j*LD_param)**n_diff)*special.genlaguerre(m, n_diff)(LD_param**2)\n",
    "    return laguerre_factor"
   ]
  },
  {
   "cell_type": "markdown",
   "metadata": {},
   "source": [
    "## 2. Simulation"
   ]
  },
  {
   "cell_type": "code",
   "execution_count": 62,
   "metadata": {},
   "outputs": [
    {
     "name": "stdout",
     "output_type": "stream",
     "text": [
      "[[1.+0.j 0.+0.j]\n",
      " [0.+0.j 0.+0.j]]\n",
      "[[0.+0.j 0.+0.j]\n",
      " [0.+0.j 0.+0.j]]\n",
      "[[0.+0.j 0.+0.j]\n",
      " [0.+0.j 0.+0.j]]\n"
     ]
    }
   ],
   "source": [
    "# initialize the density matrix elements\n",
    "sim_init_array = np.zeros((n_tot,n_tot,2,2), dtype=complex)\n",
    "sim_empty_array = np.zeros((n_tot,n_tot,2,2), dtype=complex)\n",
    "\n",
    "sim_spin = np.array([[complex(spin_down_init), complex(0)], [complex(0), complex(1 - spin_down_init)]])\n",
    "sim_spin.reshape(2, 2)\n",
    "sim_empty = np.array([[complex(0), complex(0)], [complex(0), complex(0)]])\n",
    "sim_empty.reshape(2, 2)\n",
    "\n",
    "for n in range(n_tot):\n",
    "    prob_n = (1/(n_mean_init + 1))*(n_mean_init/(n_mean_init + 1))**n\n",
    "    sim_init_array[n,n] = prob_n * sim_spin\n",
    "    \n",
    "sim_init_array /= sim_init_array.sum()\n",
    "\n",
    "print(sim_init_array[0][0])\n",
    "print(sim_init_array[n_tot - 1][n_tot - 1])\n",
    "print(sim_empty_array[0][0])"
   ]
  },
  {
   "cell_type": "code",
   "execution_count": 63,
   "metadata": {},
   "outputs": [
    {
     "data": {
      "text/plain": [
       "array([[0.+0.j, 0.+0.j],\n",
       "       [0.+0.j, 0.+0.j]])"
      ]
     },
     "execution_count": 63,
     "metadata": {},
     "output_type": "execute_result"
    }
   ],
   "source": [
    "sim_init_array[1,1]"
   ]
  },
  {
   "cell_type": "markdown",
   "metadata": {},
   "source": [
    "## Matrix version"
   ]
  },
  {
   "cell_type": "code",
   "execution_count": 64,
   "metadata": {},
   "outputs": [],
   "source": [
    "# Initial J, Jd matrix --> Constant since there's no time dependencies\n",
    "J_matrix = np.zeros((n_tot,n_tot), dtype=complex)\n",
    "J_d_matrix = np.zeros((n_tot,n_tot), dtype=complex)\n",
    "for m in range(n_tot):\n",
    "    for n in range(n_tot):        \n",
    "#         if (m < n_tot - 1) and (n < n_tot - 1):\n",
    "        J_matrix[m,n] = Gamma*(bath_mean_n + 1)*(((m + 1)*(n + 1))**(1/2))\n",
    "#         if (1 <= m) and (1 <= n):\n",
    "        J_d_matrix[m,n] = Gamma*bath_mean_n*((m*n)**(1/2))            "
   ]
  },
  {
   "cell_type": "code",
   "execution_count": 65,
   "metadata": {},
   "outputs": [],
   "source": [
    "# Initial K, Kd matrix\n",
    "K_matrix = np.zeros_like(sim_empty_array, dtype=complex)\n",
    "K_d_matrix = np.zeros_like(sim_empty_array, dtype=complex)\n",
    "for m in range(n_tot):\n",
    "    for n in range(n_tot):\n",
    "        f_mn = get_laguerre(m,n)\n",
    "#         f_mn_prime = get_laguerre_prime(m,n)\n",
    "        f_mn_prime = f_mn.conj()\n",
    "        K_matrix[m,n] = -(1j/2)*np.array([[0, f_mn * 2*np.pi * f_Rabi], [f_mn_prime * 2*np.pi * f_Rabi, 0]], dtype=complex)    \n",
    "        K_d_matrix[m,n] = (1j/2)*np.array([[0, f_mn * 2*np.pi * f_Rabi], [f_mn_prime * 2*np.pi * f_Rabi, 0]], dtype=complex) \n",
    "        if m == n:\n",
    "            K_matrix[m,n] -= return_motional_decay_rate(n)*np.eye(2, dtype=complex)\n",
    "            K_d_matrix[m,n] -= return_motional_decay_rate(n)*np.eye(2, dtype=complex)"
   ]
  },
  {
   "cell_type": "code",
   "execution_count": 66,
   "metadata": {
    "scrolled": true
   },
   "outputs": [
    {
     "data": {
      "text/plain": [
       "31500.02412364625"
      ]
     },
     "execution_count": 66,
     "metadata": {},
     "output_type": "execute_result"
    }
   ],
   "source": [
    "return_motional_decay_rate(10)"
   ]
  },
  {
   "cell_type": "code",
   "execution_count": 67,
   "metadata": {
    "scrolled": true
   },
   "outputs": [
    {
     "data": {
      "text/plain": [
       "array([-10500.00723709     -0.j        ,      0.        -151630.72728065j,\n",
       "            0.        -151630.72728065j, -10500.00723709     -0.j        ])"
      ]
     },
     "execution_count": 67,
     "metadata": {},
     "output_type": "execute_result"
    }
   ],
   "source": [
    "K_matrix[3][3].flatten()"
   ]
  },
  {
   "cell_type": "code",
   "execution_count": 68,
   "metadata": {},
   "outputs": [],
   "source": [
    "def get_evolved_K(K_mat, K_d_mat):\n",
    "    K_mat_dt = np.einsum('ijkl,ijkl->ijkl', K_evolve_matrix, K_mat)\n",
    "    K_d_mat_dt = np.einsum('ijkl,ijkl->ijkl', K_evolve_matrix, K_d_mat)\n",
    "    return K_mat_dt, K_d_mat_dt"
   ]
  },
  {
   "cell_type": "code",
   "execution_count": 69,
   "metadata": {},
   "outputs": [],
   "source": [
    "def get_summed_term(rho_prev, K_mat, K_d_mat):\n",
    "    K_term1 = np.einsum('mria,rnaj->mnij', K_mat, rho_prev)\n",
    "    K_term2 = np.einsum('mria,rnaj->mnij', rho_prev, K_d_mat)    \n",
    "    \n",
    "    rho_n_plus = np.pad(rho_prev,((0,1),(0,1),(0,0),(0,0)), mode='constant')[1:, 1:] # rho[m+1, n+1]\n",
    "    rho_n_minus = np.pad(rho_prev,((1,0),(1,0),(0,0),(0,0)), mode='constant')[:-1, :-1] # rho[m-1, n-1]\n",
    "\n",
    "    J_term1 = np.einsum('ij,ijkh->ijkh', J_matrix, rho_n_plus)\n",
    "    J_term2 = np.einsum('ij,ijkh->ijkh', J_d_matrix, rho_n_minus)\n",
    "        \n",
    "    return K_term1 + K_term2 + J_term1 + J_term2\n",
    "#     return K_term1 + K_term2\n",
    "#     return J_term1 + J_term2"
   ]
  },
  {
   "cell_type": "code",
   "execution_count": 70,
   "metadata": {},
   "outputs": [],
   "source": [
    "transition = 'blue'\n",
    "\n",
    "if transition == 'blue':\n",
    "    f_detuning = f_secular\n",
    "elif transition == 'red':\n",
    "    f_detuning = -f_secular\n",
    "else:\n",
    "    f_detuning = 0\n",
    "\n",
    "# Evolve K matrix for dt / 2\n",
    "K_evolve_matrix = np.ones_like(K_matrix, dtype=complex)\n",
    "for m in range(n_tot):\n",
    "    for n in range(n_tot):\n",
    "#         K_evolve_matrix[m,n] = np.array([[1, np.exp(1j*((m-n)*f_secular - f_detuning)*dt/2)], \n",
    "#                                          [np.exp(-1j*((m-n)*f_secular - f_detuning)*dt/2), 1]])\n",
    "        K_evolve_matrix[m,n] = np.array([[1, np.exp(1j*2*np.pi*((m-n)*f_secular + f_detuning)*dt/2)], \n",
    "                                         [np.exp(1j*2*np.pi*((m-n)*f_secular - f_detuning)*dt/2), 1]])\n",
    "\n",
    "# K_matrix_t = np.zeros((2*int(t_tot/dt), n_tot, n_tot, 2, 2), dtype=complex)\n",
    "# K_d_matrix_t = np.zeros((2*int(t_tot/dt), n_tot, n_tot, 2, 2), dtype=complex)\n",
    "# for i in range(int(t_tot/dt)):\n",
    "#     K_matrix_t[2*i] = K_matrix.copy()\n",
    "#     K_d_matrix_t[2*i] = K_d_matrix.copy()\n",
    "#     K_matrix, K_d_matrix = get_evolved_K(K_matrix, K_d_matrix)\n",
    "    \n",
    "#     K_matrix_t[2*i+1] = K_matrix.copy()\n",
    "#     K_d_matrix_t[2*i+1] = K_d_matrix.copy()"
   ]
  },
  {
   "cell_type": "code",
   "execution_count": 71,
   "metadata": {
    "scrolled": true
   },
   "outputs": [
    {
     "data": {
      "application/vnd.jupyter.widget-view+json": {
       "model_id": "bc0cbb0dd4fa4304858916f5854fbf85",
       "version_major": 2,
       "version_minor": 0
      },
      "text/plain": [
       "  0%|          | 0/1500 [00:00<?, ?it/s]"
      ]
     },
     "metadata": {},
     "output_type": "display_data"
    }
   ],
   "source": [
    "sim_timeline = {'time_step' : list(), 'prob_up' : list(), 'rho_hist': []}\n",
    "\n",
    "traced = sim_init_array.sum(axis=(0,1))\n",
    "prob_up = traced[1][1].real\n",
    "sim_timeline['time_step'].append(0)      # plot units in us\n",
    "sim_timeline['prob_up'].append(prob_up)\n",
    "\n",
    "# update density matrix elements\n",
    "sim_prev = cp.deepcopy(sim_init_array)\n",
    "sim_next = cp.deepcopy(sim_empty_array)\n",
    "sim_timeline['rho_hist'].append(sim_prev.copy())\n",
    "\n",
    "time = 0\n",
    "for it in tqdm(range(round(t_tot/dt))): \n",
    "#     K_matrix, K_d_matrix = get_evolved_K(K_matrix, K_d_matrix)\n",
    "#     K_matrix, K_d_matrix = get_evolved_K(K_matrix, K_d_matrix)\n",
    "#     summed = get_summed_term(sim_prev, K_matrix, K_d_matrix)\n",
    "    \n",
    "#     sim_next = sim_prev + summed * dt\n",
    "    \n",
    "\n",
    "    summed = get_summed_term(sim_prev, K_matrix, K_d_matrix)\n",
    "    k1 = summed * dt\n",
    "    \n",
    "    K_matrix, K_d_matrix = get_evolved_K(K_matrix, K_d_matrix)\n",
    "#     K_matrix, K_d_matrix = K_matrix_t[2*it], K_d_matrix_t[2*it] \n",
    "    summed = get_summed_term(sim_prev + k1/2, K_matrix, K_d_matrix)\n",
    "    k2 = summed * dt\n",
    "    summed = get_summed_term(sim_prev + k2/2, K_matrix, K_d_matrix)\n",
    "    k3 = summed * dt\n",
    "    \n",
    "    K_matrix, K_d_matrix = get_evolved_K(K_matrix, K_d_matrix)\n",
    "#     K_matrix, K_d_matrix = K_matrix_t[2*it+1], K_d_matrix_t[2*it+1] \n",
    "    summed = get_summed_term(sim_prev + k3, K_matrix, K_d_matrix)\n",
    "    k4 = summed * dt\n",
    "    \n",
    "    sim_next = sim_prev + (k1 + 2*k2 + 2*k3 + k4)/6\n",
    "#     sim_next /= sim_next.sum(axis=(0,1))[0,0] + sim_next.sum(axis=(0,1))[1,1]\n",
    "    \n",
    "    traced = sim_next.sum(axis=(0,1))\n",
    "    prob_up = traced[1][1].real\n",
    "    \n",
    "    sim_timeline['time_step'].append((it+1)*t_scale)      # plot units in us\n",
    "    sim_timeline['prob_up'].append(prob_up)\n",
    "    sim_timeline['rho_hist'].append(sim_next.copy())\n",
    "    \n",
    "    sim_prev = cp.deepcopy(sim_next)\n",
    "    sim_next = cp.deepcopy(sim_empty_array)\n",
    "\n",
    "sim_final_array = cp.deepcopy(sim_prev)"
   ]
  },
  {
   "cell_type": "code",
   "execution_count": 72,
   "metadata": {},
   "outputs": [
    {
     "data": {
      "text/plain": [
       "array([[ 0.91419551+1.86709357e-19j, -0.2926705 +1.61311126e-02j],\n",
       "       [-0.2926705 -1.61311126e-02j,  0.09457156-3.79421275e-20j]])"
      ]
     },
     "execution_count": 72,
     "metadata": {},
     "output_type": "execute_result"
    }
   ],
   "source": [
    "sim_timeline['rho_hist'][100].sum(axis=(0,1))"
   ]
  },
  {
   "cell_type": "code",
   "execution_count": 73,
   "metadata": {},
   "outputs": [],
   "source": [
    "for i in range(len(sim_timeline['rho_hist'])):\n",
    "    sim_timeline['rho_hist'][2].sum(axis=(0,1))"
   ]
  },
  {
   "cell_type": "code",
   "execution_count": 74,
   "metadata": {
    "scrolled": false
   },
   "outputs": [
    {
     "data": {
      "text/plain": [
       "[<matplotlib.lines.Line2D at 0x2a97774db20>]"
      ]
     },
     "execution_count": 74,
     "metadata": {},
     "output_type": "execute_result"
    },
    {
     "data": {
      "image/png": "[encoded data removed]",
      "text/plain": [
       "<Figure size 1800x432 with 1 Axes>"
      ]
     },
     "metadata": {
      "needs_background": "light"
     },
     "output_type": "display_data"
    }
   ],
   "source": [
    "plt.rcParams['figure.figsize'] = (25,6)\n",
    "plt.grid()\n",
    "plt.xlim(0, sim_timeline['time_step'][-1])\n",
    "plt.ylim(-0.1, 1.1)\n",
    "plt.plot(sim_timeline['time_step'][:], sim_timeline['prob_up'][:])"
   ]
  },
  {
   "cell_type": "code",
   "execution_count": 54,
   "metadata": {
    "scrolled": false
   },
   "outputs": [],
   "source": [
    "ads = [1,2,3]"
   ]
  },
  {
   "cell_type": "code",
   "execution_count": 55,
   "metadata": {
    "scrolled": true
   },
   "outputs": [
    {
     "data": {
      "text/plain": [
       "1"
      ]
     },
     "execution_count": 55,
     "metadata": {},
     "output_type": "execute_result"
    }
   ],
   "source": [
    "ads.pop(0)"
   ]
  },
  {
   "cell_type": "code",
   "execution_count": 56,
   "metadata": {},
   "outputs": [
    {
     "data": {
      "text/plain": [
       "[2, 3]"
      ]
     },
     "execution_count": 56,
     "metadata": {},
     "output_type": "execute_result"
    }
   ],
   "source": [
    "ads"
   ]
  },
  {
   "cell_type": "code",
   "execution_count": 20,
   "metadata": {},
   "outputs": [
    {
     "data": {
      "image/png": "[encoded data removed]",
      "text/plain": [
       "<Figure size 1800x432 with 1 Axes>"
      ]
     },
     "metadata": {
      "needs_background": "light"
     },
     "output_type": "display_data"
    }
   ],
   "source": [
    "for n in range(10):\n",
    "    plt.plot(sim_timeline['time_step'], \n",
    "             [np.diag(sim_timeline['rho_hist'][i][n,n]).sum().real for i in range(len(sim_timeline['rho_hist']))])"
   ]
  },
  {
   "cell_type": "code",
   "execution_count": null,
   "metadata": {},
   "outputs": [],
   "source": []
  },
  {
   "cell_type": "code",
   "execution_count": null,
   "metadata": {},
   "outputs": [],
   "source": []
  },
  {
   "cell_type": "code",
   "execution_count": null,
   "metadata": {},
   "outputs": [],
   "source": []
  },
  {
   "cell_type": "code",
   "execution_count": null,
   "metadata": {},
   "outputs": [],
   "source": []
  },
  {
   "cell_type": "code",
   "execution_count": null,
   "metadata": {},
   "outputs": [],
   "source": []
  }
 ],
 "metadata": {
  "interpreter": {
   "hash": "26eb218357ef5145310f88f18a832723951405e568f00ca9c1b7f8d6834b2141"
  },
  "kernelspec": {
   "display_name": "Python 3",
   "language": "python",
   "name": "python3"
  },
  "language_info": {
   "codemirror_mode": {
    "name": "ipython",
    "version": 3
   },
   "file_extension": ".py",
   "mimetype": "text/x-python",
   "name": "python",
   "nbconvert_exporter": "python",
   "pygments_lexer": "ipython3",
   "version": "3.8.8"
  }
 },
 "nbformat": 4,
 "nbformat_minor": 2
}
