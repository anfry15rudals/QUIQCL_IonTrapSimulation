{
 "cells": [
  {
   "cell_type": "markdown",
   "metadata": {},
   "source": [
    "# Simulation: single ion Rabi with motional heating"
   ]
  },
  {
   "cell_type": "code",
   "execution_count": 96,
   "metadata": {},
   "outputs": [],
   "source": [
    "from scipy import special\n",
    "import numpy as np\n",
    "import matplotlib.pyplot as plt\n",
    "import copy as cp\n",
    "from tqdm.notebook import tqdm"
   ]
  },
  {
   "cell_type": "markdown",
   "metadata": {},
   "source": [
    "## 1. Parameter definitions"
   ]
  },
  {
   "cell_type": "markdown",
   "metadata": {},
   "source": [
    "### A. User-defined parameters"
   ]
  },
  {
   "cell_type": "code",
   "execution_count": 321,
   "metadata": {},
   "outputs": [],
   "source": [
    "n_tot = 10               # total number of number state basis to represent the motional state: starts from zero\n",
    "n_mean_init = 0         # initial mean number of the motional state\n",
    "spin_down_init = 1      # initial population of spin down\n",
    "\n",
    "f_Rabi = 50*10**3       # internal state Rabi frequency: units in Hz\n",
    "f_secular = 1.6*10**6   # secular frequency: units in Hz\n",
    "f_detuning = 0          # detuning: units in Hz\n",
    "LD_param = 0.1          # Lamb-Dicke parameter: dimensionless\n",
    "drift_phase = 0\n",
    "\n",
    "heating_rate = 5000        # heating rate: units in phonons/sec\n",
    "T_b = 300               # equilibrium temperature of the phonon heat bath: units in Kelvin\n",
    "\n",
    "t_tot = 300*1e-6            # total time to simulate: units in sec\n",
    "dt = 1e-9               # simulation time step: units in sec\n",
    "t_scale = (10**6)*dt    # plot time scale: units in us"
   ]
  },
  {
   "cell_type": "markdown",
   "metadata": {},
   "source": [
    "### B. Dependent parameters"
   ]
  },
  {
   "cell_type": "code",
   "execution_count": 322,
   "metadata": {
    "scrolled": true
   },
   "outputs": [
    {
     "name": "stdout",
     "output_type": "stream",
     "text": [
      "bath mean number:  621797\n",
      "Gamma:  0.008041\n"
     ]
    }
   ],
   "source": [
    "# returns the mean number of the bath with respect to the motional energy\n",
    "def return_bath_mean_n():\n",
    "    hbar = 6.62607015*10**(-34)\n",
    "    k_B = 1.380649*10**(-23)\n",
    "    mean_n = 1/(np.exp(hbar*(2*np.pi*f_secular)/(k_B*T_b)) - 1)\n",
    "\n",
    "    return mean_n\n",
    "\n",
    "bath_mean_n = return_bath_mean_n()\n",
    "print('bath mean number: ', round(bath_mean_n))\n",
    "\n",
    "# returns the coupling efficiency to the bath \n",
    "def return_gamma():\n",
    "    gamma = heating_rate/bath_mean_n\n",
    "\n",
    "    return gamma\n",
    "\n",
    "Gamma = return_gamma()\n",
    "print('Gamma: ', round(Gamma, 6))\n",
    "\n",
    "# returns the motional decay rate\n",
    "def return_motional_decay_rate(n):\n",
    "    decay_rate = Gamma*((2*bath_mean_n + 1)*n + bath_mean_n)/2\n",
    "    \n",
    "    return decay_rate\n",
    "\n",
    "# returns the motional Rabi frequency for different number state transitions\n",
    "def return_stationary_motional_f_Rabi(n_f, n_i):\n",
    "    laguerre_factor_0 = complex(1)\n",
    "    laguerre_factor_1 = complex(1)\n",
    "    if n_f == n_i:\n",
    "        laguerre_factor_0 = np.exp(-(LD_param**2)/2)*special.genlaguerre(n_i, 0)(LD_param**2)\n",
    "        laguerre_factor_1 = laguerre_factor_0\n",
    "    elif n_f > n_i:\n",
    "        n_diff = n_f - n_i\n",
    "        laguerre_factor = np.exp(-(LD_param**2)/2)*(special.factorial(n_i)/special.factorial(n_f))**(1/2)\n",
    "        laguerre_factor_0 = laguerre_factor*((LD_param*1j)**n_diff)*special.genlaguerre(n_i, n_diff)(LD_param**2)\n",
    "        laguerre_factor_1 = laguerre_factor*((-LD_param*1j)**n_diff)*special.genlaguerre(n_i, n_diff)(LD_param**2)\n",
    "    elif n_f < n_i:\n",
    "        n_diff = n_i - n_f\n",
    "        laguerre_factor = np.exp(-(LD_param**2)/2)*(special.factorial(n_f)/special.factorial(n_i))**(1/2)\n",
    "        laguerre_factor_0 = laguerre_factor*((LD_param*1j)**n_diff)*special.genlaguerre(n_f, n_diff)(LD_param**2)\n",
    "        laguerre_factor_1 = laguerre_factor*((-LD_param*1j)**n_diff)*special.genlaguerre(n_f, n_diff)(LD_param**2)\n",
    "\n",
    "    return [laguerre_factor_0*(2*np.pi*f_Rabi), laguerre_factor_1*(2*np.pi*f_Rabi)]\n",
    "\n",
    "modified_f_Rabi2 = np.zeros((n_tot, n_tot, 2, 2), dtype=complex)\n",
    "for m in range(n_tot):\n",
    "    for n in range(n_tot):\n",
    "        modified_f_Rabi2[m,n] = return_stationary_motional_f_Rabi(m, n)\n",
    "\n",
    "modified_f_Rabi = list()\n",
    "for m in range(n_tot):\n",
    "    f_Rabi_row = list()\n",
    "    for n in range(n_tot):\n",
    "        f_Rabi_row.append(return_stationary_motional_f_Rabi(m, n))\n",
    "    modified_f_Rabi.append(f_Rabi_row)\n",
    "modified_f_Rabi = np.array(modified_f_Rabi)\n",
    "    \n",
    "def return_evolving_motional_f_Rabi(n_f, n_i, time):\n",
    "    base_rabi = modified_f_Rabi[n_f][n_i]\n",
    "    time_factor_0 = np.exp(1j*2*np.pi*((n_f - n_i)*f_secular + f_detuning)*time)\n",
    "    time_factor_1 = np.exp(1j*2*np.pi*((n_f - n_i)*f_secular - f_detuning)*time)\n",
    "\n",
    "    return [base_rabi[0]*time_factor_0, base_rabi[1]*time_factor_1]\n",
    "\n",
    "# def return_evolving_motional_f_Rabi(n_f, n_i, time):\n",
    "#     time_factor_0 = np.exp(1j*2*np.pi*((n_f - n_i)*f_secular - f_detuning)*time)\n",
    "#     time_factor_1 = np.exp(- 1j*2*np.pi*((n_f - n_i)*f_secular + f_detuning)*time)\n",
    "\n",
    "#     return [time_factor_0, time_factor_1]\n",
    "\n",
    "def return_starionary_motional_f_Rabi(n_f, n_i):\n",
    "    base_rabi = modified_f_Rabi[n_f][n_i]\n",
    "    return base_rabi"
   ]
  },
  {
   "cell_type": "markdown",
   "metadata": {},
   "source": [
    "## 2. Simulation"
   ]
  },
  {
   "cell_type": "code",
   "execution_count": 323,
   "metadata": {},
   "outputs": [
    {
     "name": "stdout",
     "output_type": "stream",
     "text": [
      "[[1.+0.j 0.+0.j]\n",
      " [0.+0.j 0.+0.j]]\n",
      "[[0.+0.j 0.+0.j]\n",
      " [0.+0.j 0.+0.j]]\n",
      "[[0.+0.j 0.+0.j]\n",
      " [0.+0.j 0.+0.j]]\n"
     ]
    }
   ],
   "source": [
    "# initialize the density matrix elements\n",
    "sim_init_array = list()\n",
    "sim_empty_array = list()\n",
    "\n",
    "sim_spin = np.array([[complex(spin_down_init), complex(0)], [complex(0), complex(1 - spin_down_init)]])\n",
    "sim_spin.reshape(2, 2)\n",
    "sim_empty = np.array([[complex(0), complex(0)], [complex(0), complex(0)]])\n",
    "sim_empty.reshape(2, 2)\n",
    "\n",
    "for m in range(n_tot):\n",
    "    sim_array_row = list()\n",
    "    sim_empty_row = list()\n",
    "    for n in range(n_tot):\n",
    "        prob_n = 0\n",
    "        if m == n:\n",
    "            prob_n = (1/(n_mean_init + 1))*(n_mean_init/(n_mean_init + 1))**n\n",
    "        sim_array_row.append(prob_n*sim_spin)\n",
    "        sim_empty_row.append(sim_empty)\n",
    "    sim_array_row = np.array(sim_array_row)\n",
    "    sim_array_row.reshape(2, 2*n_tot)\n",
    "    sim_init_array.append(sim_array_row)\n",
    "    sim_empty_row = np.array(sim_empty_row)\n",
    "    sim_empty_row.reshape(2, 2*n_tot)\n",
    "    sim_empty_array.append(sim_empty_row)\n",
    "sim_init_array = np.array(sim_init_array)\n",
    "sim_init_array.reshape(2*n_tot, 2*n_tot)\n",
    "sim_empty_array = np.array(sim_empty_array)\n",
    "sim_empty_array.reshape(2*n_tot, 2*n_tot)\n",
    "\n",
    "sim_init_array /= sim_init_array.sum()\n",
    "\n",
    "print(sim_init_array[0][0])\n",
    "print(sim_init_array[n_tot - 1][n_tot - 1])\n",
    "print(sim_empty_array[0][0])"
   ]
  },
  {
   "cell_type": "code",
   "execution_count": 324,
   "metadata": {
    "scrolled": true
   },
   "outputs": [],
   "source": [
    "# sim_timeline = {'time_step' : list(), 'prob_up' : list()}\n",
    "\n",
    "# # update density matrix elements\n",
    "# sim_prev = cp.deepcopy(sim_init_array)\n",
    "# sim_next = cp.deepcopy(sim_empty_array)\n",
    "# I = np.array([[complex(1), complex(0)], [complex(0), complex(1)]])\n",
    "\n",
    "# time = 0\n",
    "# for it in tqdm(range(round(t_tot/dt))): \n",
    "#     for m in range(n_tot):\n",
    "#         for n in range(n_tot):\n",
    "#             sum_K = np.array([[complex(0), complex(0)], [complex(0), complex(0)]]) \n",
    "\n",
    "#             for r in range(n_tot):\n",
    "#                 rabi = return_evolving_motional_f_Rabi(m, r, time + it*dt)\n",
    "#                 K = -(1j/2)*np.array([[complex(0), rabi[0]], [rabi[1], complex(0)]])   \n",
    "#                 if r == m:\n",
    "#                     K -= return_motional_decay_rate(r)*I\n",
    "#                 sum_K += np.matmul(K, sim_prev[r][n])\n",
    "\n",
    "#             for l in range(n_tot):\n",
    "#                 rabi = return_evolving_motional_f_Rabi(l, n, time + it*dt)\n",
    "#                 K_d = (1j/2)*np.array([[complex(0), rabi[0]], [rabi[1], complex(0)]]) \n",
    "#                 if l == n:\n",
    "#                     K_d -= return_motional_decay_rate(l)*I\n",
    "#                 sum_K += np.matmul(sim_prev[m][l], K_d)\n",
    "                \n",
    "#             J = np.array([[complex(0), complex(0)], [complex(0), complex(0)]])\n",
    "#             J_d = np.array([[complex(0), complex(0)], [complex(0), complex(0)]])\n",
    "            \n",
    "#             if (m < n_tot - 1) and (n < n_tot - 1):\n",
    "#                 J = Gamma*(bath_mean_n + 1)*(((m + 1)*(n + 1))**(1/2))*sim_prev[m + 1][n + 1]\n",
    "#             if (1 <= m) and (1 <= n):\n",
    "#                 J_d = Gamma*bath_mean_n*((m*n)**(1/2))*sim_prev[m - 1][n - 1]\n",
    "\n",
    "#             sim_next[m][n] = sim_prev[m][n] + (sum_K + J + J_d)*dt\n",
    "    \n",
    "#     traced = np.array([[complex(0), complex(0)], [complex(0), complex(0)]])\n",
    "#     for diag_n in range(n_tot):\n",
    "#         traced += sim_next[diag_n][diag_n]\n",
    "#     prob_up = traced[1][1].real\n",
    "\n",
    "#     sim_timeline['time_step'].append(it*t_scale)      # plot units in us\n",
    "#     sim_timeline['prob_up'].append(prob_up)\n",
    "    \n",
    "#     sim_prev = cp.deepcopy(sim_next)\n",
    "#     sim_next = cp.deepcopy(sim_empty_array)\n",
    "\n",
    "# sim_final_array = cp.deepcopy(sim_prev)\n"
   ]
  },
  {
   "cell_type": "markdown",
   "metadata": {},
   "source": [
    "## Matrix version"
   ]
  },
  {
   "cell_type": "code",
   "execution_count": 325,
   "metadata": {},
   "outputs": [],
   "source": [
    "K_matrix = np.zeros_like(sim_empty_array, dtype=complex)\n",
    "K_d_matrix = np.zeros_like(sim_empty_array, dtype=complex)\n",
    "for m in range(n_tot):\n",
    "    for n in range(n_tot):\n",
    "        rabi = return_stationary_motional_f_Rabi(m, n)\n",
    "        K_matrix[m,n] = -(1j/2)*np.array([[complex(0), rabi[0]], [rabi[1], complex(0)]])    \n",
    "        K_d_matrix[m,n] = (1j/2)*np.array([[complex(0), rabi[0]], [rabi[1], complex(0)]]) \n",
    "        if m == n:\n",
    "            K_matrix[m,n] -= return_motional_decay_rate(n)*np.eye(2, dtype=complex)\n",
    "            K_d_matrix[m,n] -= return_motional_decay_rate(n)*np.eye(2, dtype=complex)"
   ]
  },
  {
   "cell_type": "code",
   "execution_count": 326,
   "metadata": {},
   "outputs": [],
   "source": [
    "J_matrix = np.zeros((n_tot,n_tot), dtype=complex)\n",
    "J_d_matrix = np.zeros((n_tot,n_tot), dtype=complex)\n",
    "for m in range(n_tot):\n",
    "    for n in range(n_tot):        \n",
    "        if (m < n_tot - 1) and (n < n_tot - 1):\n",
    "            J_matrix[m,n] = Gamma*(bath_mean_n + 1)*(((m + 1)*(n + 1))**(1/2))\n",
    "        if (1 <= m) and (1 <= n):\n",
    "            J_d_matrix[m,n] = Gamma*bath_mean_n*((m*n)**(1/2))            "
   ]
  },
  {
   "cell_type": "code",
   "execution_count": 327,
   "metadata": {},
   "outputs": [],
   "source": [
    "# idx1, idx2 = 0, 0"
   ]
  },
  {
   "cell_type": "code",
   "execution_count": 328,
   "metadata": {},
   "outputs": [],
   "source": [
    "# np.einsum('ijkl,ijlh->ijkh', sim_prev, K_matrix)[idx1][idx2]"
   ]
  },
  {
   "cell_type": "code",
   "execution_count": 329,
   "metadata": {},
   "outputs": [],
   "source": [
    "# np.matmul(sim_prev[idx1][idx2], K_matrix[idx1][idx2])"
   ]
  },
  {
   "cell_type": "code",
   "execution_count": 330,
   "metadata": {},
   "outputs": [],
   "source": [
    "# for idx1 in range(10):\n",
    "#     for idx2 in range(10):\n",
    "#         print(np.einsum('ijkl,ijlh->ijkh', sim_prev, K_matrix)[idx1][idx2] == np.matmul(sim_prev[idx1][idx2], K_matrix[idx1][idx2]))"
   ]
  },
  {
   "cell_type": "code",
   "execution_count": 331,
   "metadata": {
    "scrolled": true
   },
   "outputs": [],
   "source": [
    "# rabi_matrix1 = np.zeros((n_tot, n_tot, 2, 2), dtype=complex)\n",
    "# rabi_matrix2 = np.zeros((n_tot, n_tot, 2, 2), dtype=complex)\n",
    "# for m in range(n_tot):\n",
    "#     for n in range(n_tot):\n",
    "#         rabi = return_evolving_motional_f_Rabi(m, n, dt)\n",
    "#         rabi_matrix1[m,n] = np.array([[1, rabi[0]], [rabi[1], 1]], dtype=complex)   \n",
    "#         rabi = return_evolving_motional_f_Rabi(m, n, dt/2)\n",
    "#         rabi_matrix2[m,n] = np.array([[1, rabi[0]], [rabi[1], 1]], dtype=complex)   "
   ]
  },
  {
   "cell_type": "code",
   "execution_count": 332,
   "metadata": {},
   "outputs": [],
   "source": [
    "def get_evolved_K(K, t):\n",
    "#     if idx == 1:\n",
    "#         rabi_matrix = rabi_matrix1.copy()\n",
    "#     if idx == 2:\n",
    "#         rabi_matrix = rabi_matrix2.copy()\n",
    "#     rabi_matrix = rabi_matrix2.copy()\n",
    "#     K_matrix_t = np.einsum('ijkl,ijkl->ijkl', rabi_matrix, K_matrix)\n",
    "#     K_d_matrix_t = np.einsum('ijkl,ijkl->ijkl', -rabi_matrix, K_d_matrix)\n",
    "    \n",
    "    K_matrix_t = np.zeros_like(sim_empty_array, dtype=complex)\n",
    "    K_d_matrix_t = np.zeros_like(sim_empty_array, dtype=complex)\n",
    "    for m in range(n_tot):\n",
    "        for n in range(n_tot):\n",
    "            rabi = return_evolving_motional_f_Rabi(m, n, t)\n",
    "            K_matrix_t[m,n] = -(1j/2)*np.array([[complex(0), rabi[0]], [rabi[1], complex(0)]])    \n",
    "            K_d_matrix_t[m,n] = (1j/2)*np.array([[complex(0), rabi[0]], [rabi[1], complex(0)]]) \n",
    "            if m == n:\n",
    "                K_matrix_t[m,n] -= return_motional_decay_rate(n)*np.eye(2, dtype=complex)\n",
    "                K_d_matrix_t[m,n] -= return_motional_decay_rate(n)*np.eye(2, dtype=complex)\n",
    "    return K_matrix_t, K_d_matrix_t"
   ]
  },
  {
   "cell_type": "code",
   "execution_count": 333,
   "metadata": {},
   "outputs": [],
   "source": [
    "# def get_summed_term(rho_prev, transition = 'carrier'):\n",
    "#     if transition == 'blue':\n",
    "#         K_matrix_shift = np.pad(K_matrix,((0,0),(1,0),(0,0),(0,0)), mode='constant')[:, :-1]\n",
    "#         rho_shift1 = np.pad(rho_prev,((1,0),(0,0),(0,0),(0,0)), mode='constant')[:-1, :]\n",
    "#         K_d_matrix_shift = np.pad(K_d_matrix,((0,1),(0,0),(0,0),(0,0)), mode='constant')[1:, :]\n",
    "#         rho_shift2 = np.pad(rho_prev,((0,0),(0,1),(0,0),(0,0)), mode='constant')[:, 1:]\n",
    "#         K_term1 = np.einsum('ijkl,ijlh->ijkh', K_matrix_shift, rho_shift1)\n",
    "#         K_term2 = np.einsum('ijkl,ijlh->ijkh', rho_shift2, K_d_matrix_shift)\n",
    "#     elif transition == 'red':\n",
    "#         K_matrix_shift = np.pad(K_matrix,((0,0),(0,1),(0,0),(0,0)), mode='constant')[:, 1:]\n",
    "#         rho_shift1 = np.pad(rho_prev,((0,1),(0,0),(0,0),(0,0)), mode='constant')[1:, :]\n",
    "#         K_d_matrix_shift = np.pad(K_d_matrix,((1,0),(0,0),(0,0),(0,0)), mode='constant')[:-1, :]\n",
    "#         rho_shift2 = np.pad(rho_prev,((0,0),(1,0),(0,0),(0,0)), mode='constant')[:, :-1]\n",
    "#         K_term1 = np.einsum('ijkl,ijlh->ijkh', K_matrix_shift, rho_shift1)\n",
    "#         K_term2 = np.einsum('ijkl,ijlh->ijkh', rho_shift2, K_d_matrix_shift)\n",
    "#     else:\n",
    "#         K_term1 = np.einsum('ijkl,ijlh->ijkh', K_matrix, rho_prev)\n",
    "#         K_term2 = np.einsum('ijkl,ijlh->ijkh', rho_prev, K_d_matrix)\n",
    "        \n",
    "#     rho_n_plus = np.pad(rho_prev,((0,1),(0,1),(0,0),(0,0)), mode='constant')[1:, 1:] # rho[m+1, n+1]\n",
    "#     rho_n_minus = np.pad(rho_prev,((1,0),(1,0),(0,0),(0,0)), mode='constant')[:-1, :-1] # rho[m-1, n-1]\n",
    "    \n",
    "#     J_term1 = np.einsum('ij,ijkh->ijkh', J_matrix, rho_n_plus)\n",
    "#     J_term2 = np.einsum('ij,ijkh->ijkh', J_d_matrix, rho_n_minus)\n",
    "#     return K_term1 + K_term2 + J_term1 + J_term2"
   ]
  },
  {
   "cell_type": "code",
   "execution_count": 334,
   "metadata": {},
   "outputs": [],
   "source": [
    "def get_summed_term(rho_prev, K_mat, K_d_mat):\n",
    "    K_term1 = np.einsum('ijkl,ijlh->ijkh', K_mat, rho_prev)\n",
    "    K_term2 = np.einsum('ijkl,ijlh->ijkh', rho_prev, K_d_mat)    \n",
    "    \n",
    "    rho_n_minus = np.pad(rho_prev,((0,1),(0,1),(0,0),(0,0)), mode='constant')[1:, 1:] # rho[m+1, n+1]\n",
    "    rho_n_plus = np.pad(rho_prev,((1,0),(1,0),(0,0),(0,0)), mode='constant')[:-1, :-1] # rho[m-1, n-1]\n",
    "\n",
    "    J_term1 = np.einsum('ij,ijkh->ijkh', J_matrix, rho_n_plus)\n",
    "    J_term2 = np.einsum('ij,ijkh->ijkh', J_d_matrix, rho_n_minus)\n",
    "    \n",
    "#     J_term1 = J_coeff1 * rho_n_plus\n",
    "#     J_term2= J_coeff2 * rho_n_minus\n",
    "    \n",
    "    return K_term1 + K_term2 + J_term1 + J_term2"
   ]
  },
  {
   "cell_type": "code",
   "execution_count": 335,
   "metadata": {},
   "outputs": [],
   "source": [
    "transition = 'blue'\n",
    "\n",
    "if transition == 'blue':\n",
    "    f_detuning = f_secular\n",
    "elif transition == 'red':\n",
    "    f_detuning = -f_secular\n",
    "else:\n",
    "    f_detuning = 0"
   ]
  },
  {
   "cell_type": "code",
   "execution_count": null,
   "metadata": {},
   "outputs": [
    {
     "data": {
      "application/vnd.jupyter.widget-view+json": {
       "model_id": "ef5ff4e101b2496599cbb90019df96ad",
       "version_major": 2,
       "version_minor": 0
      },
      "text/plain": [
       "  0%|          | 0/300000 [00:00<?, ?it/s]"
      ]
     },
     "metadata": {},
     "output_type": "display_data"
    }
   ],
   "source": [
    "sim_timeline = {'time_step' : list(), 'prob_up' : list(), 'rho_hist': []}\n",
    "\n",
    "traced = sim_init_array.sum(axis=(0,1))\n",
    "prob_up = traced[1][1].real\n",
    "sim_timeline['time_step'].append(0)      # plot units in us\n",
    "sim_timeline['prob_up'].append(prob_up)\n",
    "\n",
    "# update density matrix elements\n",
    "sim_prev = cp.deepcopy(sim_init_array)\n",
    "sim_next = cp.deepcopy(sim_empty_array)\n",
    "sim_timeline['rho_hist'].append(sim_prev.copy())\n",
    "\n",
    "time = 0\n",
    "for it in tqdm(range(round(t_tot/dt))): \n",
    "    \n",
    "#     K_term1 = np.einsum('ijkl,ijlh->ijkh', K_matrix, sim_prev)\n",
    "#     K_term2 = np.einsum('ijkl,ijlh->ijkh', sim_prev, K_d_matrix)\n",
    "    \n",
    "#     rho_n_plus = np.pad(sim_prev,((0,1),(0,1),(0,0),(0,0)), mode='constant')[1:, 1:] # rho[m+1, n+1]\n",
    "#     rho_n_minus = np.pad(sim_prev,((1,0),(1,0),(0,0),(0,0)), mode='constant')[:-1, :-1] # rho[m-1, n-1]\n",
    "    \n",
    "#     J_term1 = np.einsum('ij,ijkh->ijkh', J_matrix, rho_n_plus)\n",
    "#     J_term2 = np.einsum('ij,ijkh->ijkh', J_d_matrix, rho_n_minus)\n",
    "    \n",
    "#     summed = get_summed_term(sim_prev)\n",
    "#     sim_next = sim_prev + summed*dt\n",
    "    \n",
    "    summed = get_summed_term(sim_prev, K_matrix, K_d_matrix)\n",
    "    k1 = summed * dt\n",
    "    K_matrix, K_d_matrix = get_evolved_K(K_matrix, it*dt + dt/2)\n",
    "    summed = get_summed_term(sim_prev + k1/2, K_matrix, K_d_matrix)\n",
    "    k2 = summed * dt\n",
    "    summed = get_summed_term(sim_prev + k2/2, K_matrix, K_d_matrix)\n",
    "    k3 = summed * dt\n",
    "    K_matrix, K_d_matrix = get_evolved_K(K_matrix, it*dt + dt)\n",
    "    summed = get_summed_term(sim_prev + k3, K_matrix, K_d_matrix)\n",
    "    k4 = summed * dt\n",
    "    \n",
    "    sim_next = sim_prev + (k1 + 2*k2 + 2*k3 + k4)/6\n",
    "#     sim_next /= sim_next.sum(axis=(0,1))[0,0] + sim_next.sum(axis=(0,1))[1,1]\n",
    "    \n",
    "    traced = sim_next.sum(axis=(0,1))\n",
    "    prob_up = traced[1][1].real\n",
    "    \n",
    "    sim_timeline['time_step'].append((it+1)*t_scale)      # plot units in us\n",
    "    sim_timeline['prob_up'].append(prob_up)\n",
    "    sim_timeline['rho_hist'].append(sim_next.copy())\n",
    "    \n",
    "    sim_prev = cp.deepcopy(sim_next)\n",
    "    sim_next = cp.deepcopy(sim_empty_array)\n",
    "\n",
    "sim_final_array = cp.deepcopy(sim_prev)"
   ]
  },
  {
   "cell_type": "code",
   "execution_count": null,
   "metadata": {},
   "outputs": [],
   "source": [
    "plt.rcParams['figure.figsize'] = (25,6)\n",
    "plt.grid()\n",
    "plt.xlim(0, sim_timeline['time_step'][-1])\n",
    "# plt.ylim(-0.1, 1.1)\n",
    "plt.plot(sim_timeline['time_step'], sim_timeline['prob_up'])"
   ]
  },
  {
   "cell_type": "code",
   "execution_count": null,
   "metadata": {},
   "outputs": [],
   "source": [
    "rabi"
   ]
  },
  {
   "cell_type": "code",
   "execution_count": null,
   "metadata": {},
   "outputs": [],
   "source": [
    "plt.plot(sim_timeline['rho_hist'][-1][:,:,0,0].flatten())"
   ]
  },
  {
   "cell_type": "code",
   "execution_count": null,
   "metadata": {},
   "outputs": [],
   "source": [
    "plt.plot(sim_timeline['rho_hist'][-1][:,:,1,1].flatten())"
   ]
  },
  {
   "cell_type": "code",
   "execution_count": null,
   "metadata": {},
   "outputs": [],
   "source": [
    "sim_timeline['rho_hist'][10].sum(axis=(0,1))"
   ]
  },
  {
   "cell_type": "code",
   "execution_count": null,
   "metadata": {},
   "outputs": [],
   "source": [
    "sim_timeline['rho_hist'][10].sum(axis=(0,1))[0,0] + sim_timeline['rho_hist'][10].sum(axis=(0,1))[1,1]"
   ]
  },
  {
   "cell_type": "code",
   "execution_count": null,
   "metadata": {},
   "outputs": [],
   "source": []
  },
  {
   "cell_type": "code",
   "execution_count": null,
   "metadata": {},
   "outputs": [],
   "source": []
  },
  {
   "cell_type": "code",
   "execution_count": null,
   "metadata": {},
   "outputs": [],
   "source": []
  }
 ],
 "metadata": {
  "interpreter": {
   "hash": "26eb218357ef5145310f88f18a832723951405e568f00ca9c1b7f8d6834b2141"
  },
  "kernelspec": {
   "display_name": "Python 3",
   "language": "python",
   "name": "python3"
  },
  "language_info": {
   "codemirror_mode": {
    "name": "ipython",
    "version": 3
   },
   "file_extension": ".py",
   "mimetype": "text/x-python",
   "name": "python",
   "nbconvert_exporter": "python",
   "pygments_lexer": "ipython3",
   "version": "3.8.8"
  }
 },
 "nbformat": 4,
 "nbformat_minor": 2
}
